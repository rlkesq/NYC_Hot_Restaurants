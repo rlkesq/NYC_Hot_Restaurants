{
 "cells": [
  {
   "cell_type": "code",
   "execution_count": 1,
   "metadata": {},
   "outputs": [],
   "source": [
    "import pandas as pd\n",
    "import numpy as np"
   ]
  },
  {
   "cell_type": "code",
   "execution_count": 2,
   "metadata": {},
   "outputs": [],
   "source": [
    "df = pd.read_csv('/users/richardkornblith/Data_Science/NYCHR/Data_for_NYCHR/Temp_Manhattan_COOs_csv.csv',parse_dates=['C_O_ISSUE_DATE'] )"
   ]
  },
  {
   "cell_type": "code",
   "execution_count": 9,
   "metadata": {},
   "outputs": [],
   "source": [
    "# df.info()"
   ]
  },
  {
   "cell_type": "code",
   "execution_count": 4,
   "metadata": {},
   "outputs": [
    {
     "name": "stdout",
     "output_type": "stream",
     "text": [
      "<class 'pandas.core.frame.DataFrame'>\n",
      "Int64Index: 22756 entries, 0 to 22776\n",
      "Data columns (total 19 columns):\n",
      "JOB_NUMBER                22756 non-null int64\n",
      "JOB_TYPE                  22756 non-null object\n",
      "C_O_ISSUE_DATE            22756 non-null datetime64[ns]\n",
      "BIN_NUMBER                22756 non-null int64\n",
      "BOROUGH                   22756 non-null object\n",
      "NUMBER                    22756 non-null object\n",
      "STREET                    22756 non-null object\n",
      "POSTCODE                  22756 non-null int64\n",
      "PR_DWELLING_UNIT          13719 non-null float64\n",
      "EX_DWELLING_UNIT          8511 non-null float64\n",
      "APPLICATION_STATUS_RAW    22756 non-null object\n",
      "FILING_STATUS_RAW         22756 non-null object\n",
      "ITEM_NUMBER               22756 non-null int64\n",
      "ISSUE_TYPE                22756 non-null object\n",
      "LATITUDE                  22756 non-null float64\n",
      "LONGITUDE                 22756 non-null float64\n",
      "CENSUS_TRACT              22756 non-null int64\n",
      "NTA                       22756 non-null object\n",
      "LOCATION                  22756 non-null object\n",
      "dtypes: datetime64[ns](1), float64(4), int64(5), object(9)\n",
      "memory usage: 3.5+ MB\n"
     ]
    },
    {
     "name": "stderr",
     "output_type": "stream",
     "text": [
      "/anaconda3/lib/python3.7/site-packages/ipykernel_launcher.py:2: SettingWithCopyWarning: \n",
      "A value is trying to be set on a copy of a slice from a DataFrame.\n",
      "Try using .loc[row_indexer,col_indexer] = value instead\n",
      "\n",
      "See the caveats in the documentation: http://pandas.pydata.org/pandas-docs/stable/indexing.html#indexing-view-versus-copy\n",
      "  \n"
     ]
    }
   ],
   "source": [
    "filtered_df = df[df['CENSUS_TRACT'].notnull()]\n",
    "filtered_df['CENSUS_TRACT'] = filtered_df['CENSUS_TRACT'].apply(int)\n",
    "filtered_df.info()"
   ]
  },
  {
   "cell_type": "code",
   "execution_count": 6,
   "metadata": {},
   "outputs": [
    {
     "data": {
      "text/html": [
       "<div>\n",
       "<style scoped>\n",
       "    .dataframe tbody tr th:only-of-type {\n",
       "        vertical-align: middle;\n",
       "    }\n",
       "\n",
       "    .dataframe tbody tr th {\n",
       "        vertical-align: top;\n",
       "    }\n",
       "\n",
       "    .dataframe thead th {\n",
       "        text-align: right;\n",
       "    }\n",
       "</style>\n",
       "<table border=\"1\" class=\"dataframe\">\n",
       "  <thead>\n",
       "    <tr style=\"text-align: right;\">\n",
       "      <th></th>\n",
       "      <th>JOB_NUMBER</th>\n",
       "      <th>JOB_TYPE</th>\n",
       "      <th>BIN_NUMBER</th>\n",
       "      <th>NUMBER</th>\n",
       "      <th>STREET</th>\n",
       "      <th>PR_DWELLING_UNIT</th>\n",
       "      <th>EX_DWELLING_UNIT</th>\n",
       "      <th>ISSUE_TYPE</th>\n",
       "      <th>LATITUDE</th>\n",
       "      <th>LONGITUDE</th>\n",
       "      <th>CENSUS_TRACT</th>\n",
       "      <th>NTA</th>\n",
       "      <th>LOCATION</th>\n",
       "    </tr>\n",
       "    <tr>\n",
       "      <th>C_O_ISSUE_DATE</th>\n",
       "      <th></th>\n",
       "      <th></th>\n",
       "      <th></th>\n",
       "      <th></th>\n",
       "      <th></th>\n",
       "      <th></th>\n",
       "      <th></th>\n",
       "      <th></th>\n",
       "      <th></th>\n",
       "      <th></th>\n",
       "      <th></th>\n",
       "      <th></th>\n",
       "      <th></th>\n",
       "    </tr>\n",
       "  </thead>\n",
       "  <tbody>\n",
       "    <tr>\n",
       "      <th>2018-11-26</th>\n",
       "      <td>121324236</td>\n",
       "      <td>A1</td>\n",
       "      <td>1005894</td>\n",
       "      <td>150</td>\n",
       "      <td>1 AVENUE</td>\n",
       "      <td>0.0</td>\n",
       "      <td>0.0</td>\n",
       "      <td>Temporary</td>\n",
       "      <td>40.728261</td>\n",
       "      <td>-73.984785</td>\n",
       "      <td>34</td>\n",
       "      <td>East Village</td>\n",
       "      <td>(40.728261, -73.984785)</td>\n",
       "    </tr>\n",
       "    <tr>\n",
       "      <th>2018-08-28</th>\n",
       "      <td>121324236</td>\n",
       "      <td>A1</td>\n",
       "      <td>1005894</td>\n",
       "      <td>150</td>\n",
       "      <td>1 AVENUE</td>\n",
       "      <td>0.0</td>\n",
       "      <td>0.0</td>\n",
       "      <td>Temporary</td>\n",
       "      <td>40.728261</td>\n",
       "      <td>-73.984785</td>\n",
       "      <td>34</td>\n",
       "      <td>East Village</td>\n",
       "      <td>(40.728261, -73.984785)</td>\n",
       "    </tr>\n",
       "    <tr>\n",
       "      <th>2018-10-19</th>\n",
       "      <td>120938085</td>\n",
       "      <td>A1</td>\n",
       "      <td>1082875</td>\n",
       "      <td>252</td>\n",
       "      <td>1 AVENUE</td>\n",
       "      <td>300.0</td>\n",
       "      <td>300.0</td>\n",
       "      <td>Temporary</td>\n",
       "      <td>40.731903</td>\n",
       "      <td>-73.982013</td>\n",
       "      <td>44</td>\n",
       "      <td>Stuyvesant Town-Cooper Village</td>\n",
       "      <td>(40.731903, -73.982013)</td>\n",
       "    </tr>\n",
       "    <tr>\n",
       "      <th>2018-05-16</th>\n",
       "      <td>120938085</td>\n",
       "      <td>A1</td>\n",
       "      <td>1082875</td>\n",
       "      <td>252</td>\n",
       "      <td>1 AVENUE</td>\n",
       "      <td>300.0</td>\n",
       "      <td>300.0</td>\n",
       "      <td>Temporary</td>\n",
       "      <td>40.731903</td>\n",
       "      <td>-73.982013</td>\n",
       "      <td>44</td>\n",
       "      <td>Stuyvesant Town-Cooper Village</td>\n",
       "      <td>(40.731903, -73.982013)</td>\n",
       "    </tr>\n",
       "    <tr>\n",
       "      <th>2018-01-12</th>\n",
       "      <td>120938085</td>\n",
       "      <td>A1</td>\n",
       "      <td>1082875</td>\n",
       "      <td>252</td>\n",
       "      <td>1 AVENUE</td>\n",
       "      <td>300.0</td>\n",
       "      <td>300.0</td>\n",
       "      <td>Temporary</td>\n",
       "      <td>40.731903</td>\n",
       "      <td>-73.982013</td>\n",
       "      <td>44</td>\n",
       "      <td>Stuyvesant Town-Cooper Village</td>\n",
       "      <td>(40.731903, -73.982013)</td>\n",
       "    </tr>\n",
       "  </tbody>\n",
       "</table>\n",
       "</div>"
      ],
      "text/plain": [
       "                JOB_NUMBER JOB_TYPE  BIN_NUMBER NUMBER    STREET  \\\n",
       "C_O_ISSUE_DATE                                                     \n",
       "2018-11-26       121324236       A1     1005894    150  1 AVENUE   \n",
       "2018-08-28       121324236       A1     1005894    150  1 AVENUE   \n",
       "2018-10-19       120938085       A1     1082875    252  1 AVENUE   \n",
       "2018-05-16       120938085       A1     1082875    252  1 AVENUE   \n",
       "2018-01-12       120938085       A1     1082875    252  1 AVENUE   \n",
       "\n",
       "                PR_DWELLING_UNIT  EX_DWELLING_UNIT ISSUE_TYPE   LATITUDE  \\\n",
       "C_O_ISSUE_DATE                                                             \n",
       "2018-11-26                   0.0               0.0  Temporary  40.728261   \n",
       "2018-08-28                   0.0               0.0  Temporary  40.728261   \n",
       "2018-10-19                 300.0             300.0  Temporary  40.731903   \n",
       "2018-05-16                 300.0             300.0  Temporary  40.731903   \n",
       "2018-01-12                 300.0             300.0  Temporary  40.731903   \n",
       "\n",
       "                LONGITUDE  CENSUS_TRACT                             NTA  \\\n",
       "C_O_ISSUE_DATE                                                            \n",
       "2018-11-26     -73.984785            34                    East Village   \n",
       "2018-08-28     -73.984785            34                    East Village   \n",
       "2018-10-19     -73.982013            44  Stuyvesant Town-Cooper Village   \n",
       "2018-05-16     -73.982013            44  Stuyvesant Town-Cooper Village   \n",
       "2018-01-12     -73.982013            44  Stuyvesant Town-Cooper Village   \n",
       "\n",
       "                               LOCATION  \n",
       "C_O_ISSUE_DATE                           \n",
       "2018-11-26      (40.728261, -73.984785)  \n",
       "2018-08-28      (40.728261, -73.984785)  \n",
       "2018-10-19      (40.731903, -73.982013)  \n",
       "2018-05-16      (40.731903, -73.982013)  \n",
       "2018-01-12      (40.731903, -73.982013)  "
      ]
     },
     "execution_count": 6,
     "metadata": {},
     "output_type": "execute_result"
    }
   ],
   "source": [
    "fd = filtered_df.drop(labels=['BOROUGH','POSTCODE','APPLICATION_STATUS_RAW','FILING_STATUS_RAW','ITEM_NUMBER'], axis=1)\n",
    "fd.head()"
   ]
  },
  {
   "cell_type": "code",
   "execution_count": 48,
   "metadata": {},
   "outputs": [
    {
     "data": {
      "text/plain": [
       "C_O_ISSUE_DATE\n",
       "2016-12-31    70\n",
       "2017-12-31    87\n",
       "2018-12-31    77\n",
       "2019-12-31    13\n",
       "Name: ISSUE_TYPE, dtype: int64"
      ]
     },
     "execution_count": 48,
     "metadata": {},
     "output_type": "execute_result"
    }
   ],
   "source": [
    "n=test[13]\n",
    "n"
   ]
  },
  {
   "cell_type": "code",
   "execution_count": null,
   "metadata": {},
   "outputs": [],
   "source": []
  }
 ],
 "metadata": {
  "kernelspec": {
   "display_name": "Python 3",
   "language": "python",
   "name": "python3"
  },
  "language_info": {
   "codemirror_mode": {
    "name": "ipython",
    "version": 3
   },
   "file_extension": ".py",
   "mimetype": "text/x-python",
   "name": "python",
   "nbconvert_exporter": "python",
   "pygments_lexer": "ipython3",
   "version": "3.7.0"
  }
 },
 "nbformat": 4,
 "nbformat_minor": 2
}
