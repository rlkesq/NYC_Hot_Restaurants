{
 "cells": [
  {
   "cell_type": "markdown",
   "metadata": {},
   "source": [
    "## New York City Data: Restaurants with Operating Licenses\n",
    "\n",
    "### Here, we import, cleanse and form a Pandas dataframe ('manhattan_restaurants) for the further analysis of the New York City data on stree cafes in Manhattan with operating licenses. We use the stree cafe data because the City has not published in readily available form any data regarding restaurants in general.  In so doing, we implicitly assume that areas in Manhattan that experience rapid development of restaurants of the type envisioned in this project also experience rapid development of sidewalk cafes (usually if not always as an integral part of the restaurant).\n"
   ]
  },
  {
   "cell_type": "code",
   "execution_count": 1,
   "metadata": {},
   "outputs": [],
   "source": [
    "import pandas as pd\n",
    "import numpy as np\n",
    "import requests\n",
    "from pandas.io.json import json_normalize"
   ]
  },
  {
   "cell_type": "code",
   "execution_count": 6,
   "metadata": {},
   "outputs": [
    {
     "name": "stdout",
     "output_type": "stream",
     "text": [
      "<class 'pandas.core.frame.DataFrame'>\n",
      "RangeIndex: 1633 entries, 0 to 1632\n",
      "Data columns (total 18 columns):\n",
      "License Type                     1633 non-null object\n",
      "License Expiration Date          1633 non-null object\n",
      "License Status                   1633 non-null object\n",
      "License Creation Date            1633 non-null object\n",
      "Industry                         1633 non-null object\n",
      "Business Name                    1633 non-null object\n",
      "Address Building                 1633 non-null object\n",
      "Address Street Name              1633 non-null object\n",
      "Secondary Address Street Name    16 non-null object\n",
      "Address City                     1633 non-null object\n",
      "Address ZIP                      1633 non-null int64\n",
      "Address Borough                  1633 non-null object\n",
      "Community Board                  1609 non-null float64\n",
      "Council District                 1609 non-null float64\n",
      "Census Tract                     1586 non-null float64\n",
      "Longitude                        1626 non-null float64\n",
      "Latitude                         1626 non-null float64\n",
      "Location                         1626 non-null object\n",
      "dtypes: float64(5), int64(1), object(12)\n",
      "memory usage: 229.7+ KB\n"
     ]
    }
   ],
   "source": [
    "df=pd.read_csv('/users/richardkornblith/NYCHR/Data_for_NYCHR/mansc_lic_csv.csv')\n",
    "df.info()"
   ]
  },
  {
   "cell_type": "code",
   "execution_count": 7,
   "metadata": {},
   "outputs": [],
   "source": [
    "# We clean up the building numbers to facilitate using the USCB Geocode API\n",
    "df.iloc[1599,6] = '54'\n",
    "df.iloc[1631,6] = '83'\n",
    "df.iloc[1632,6] = '176'\n"
   ]
  },
  {
   "cell_type": "markdown",
   "metadata": {},
   "source": [
    "#### We need to obtain any missing census tracts in df.  For this, we will use the geocoding API provided by the USCB.  For this, we first isolate the instances in 'df' having tracts to be found into a new dataframe, 'tract_tbf'.  We preserve the original index numbers to facilitate finalization."
   ]
  },
  {
   "cell_type": "code",
   "execution_count": 13,
   "metadata": {},
   "outputs": [
    {
     "name": "stdout",
     "output_type": "stream",
     "text": [
      "<class 'pandas.core.frame.DataFrame'>\n",
      "RangeIndex: 47 entries, 0 to 46\n",
      "Data columns (total 19 columns):\n",
      "index                            47 non-null int64\n",
      "License Type                     47 non-null object\n",
      "License Expiration Date          47 non-null object\n",
      "License Status                   47 non-null object\n",
      "License Creation Date            47 non-null object\n",
      "Industry                         47 non-null object\n",
      "Business Name                    47 non-null object\n",
      "Address Building                 47 non-null object\n",
      "Address Street Name              47 non-null object\n",
      "Secondary Address Street Name    1 non-null object\n",
      "Address City                     47 non-null object\n",
      "Address ZIP                      47 non-null int64\n",
      "Address Borough                  47 non-null object\n",
      "Community Board                  46 non-null float64\n",
      "Council District                 46 non-null float64\n",
      "Census Tract                     0 non-null float64\n",
      "Longitude                        47 non-null float64\n",
      "Latitude                         47 non-null float64\n",
      "Location                         47 non-null object\n",
      "dtypes: float64(5), int64(2), object(12)\n",
      "memory usage: 7.1+ KB\n"
     ]
    }
   ],
   "source": [
    "tract_tbf = df[df['Census Tract'].isnull()]\n",
    "tract_tbf.reset_index(drop=False, inplace=True)\n",
    "tract_tbf.info()\n"
   ]
  },
  {
   "cell_type": "markdown",
   "metadata": {},
   "source": [
    "\n",
    "#### To find the missing census tracts, we use the USCB API for geocoding geographicals.  Documentation may be found at 'https://geocoding.geo.census.gov/geocoder/Geocoding_Services_API.pdf'.  For convenience, we will isolate the three columns of tract_tbf needed for this process.  We then iterate through slimmed_tbf to obtain the missing tracts and insert them into a cleansed dataframe 'manhattan_restaurants'.  \n"
   ]
  },
  {
   "cell_type": "code",
   "execution_count": 9,
   "metadata": {},
   "outputs": [
    {
     "name": "stdout",
     "output_type": "stream",
     "text": [
      "<class 'pandas.core.frame.DataFrame'>\n",
      "RangeIndex: 47 entries, 0 to 46\n",
      "Data columns (total 3 columns):\n",
      "index                  47 non-null int64\n",
      "Address Building       47 non-null object\n",
      "Address Street Name    47 non-null object\n",
      "dtypes: int64(1), object(2)\n",
      "memory usage: 1.2+ KB\n"
     ]
    }
   ],
   "source": [
    "slimmed_tbf = tract_tbf[['index', 'Address Building', 'Address Street Name']]\n",
    "slimmed_tbf.info()\n"
   ]
  },
  {
   "cell_type": "code",
   "execution_count": 10,
   "metadata": {},
   "outputs": [],
   "source": [
    "# This iteration takes some time: be patient!\n",
    "\n",
    "manhattan_restaurants = df\n",
    "for i in range(len(slimmed_tbf)):\n",
    "    index = slimmed_tbf.loc[i,'index']\n",
    "    Street = slimmed_tbf.loc[i,'Address Building']+' '+slimmed_tbf.loc[i,'Address Street Name']\n",
    "    City = 'New York'\n",
    "    State = 'NY'\n",
    "    url=\"https://geocoding.geo.census.gov/geocoder/geographies/address?street={}\\\n",
    "        &city={}&state={}&benchmark=Public_AR_Census2010&vintage=Census2010_Census2010&\\\n",
    "        layers=14&format=json\".format(Street, City, State)\n",
    "    tract = requests.get(url).json()\n",
    "    geog = tract['result']['addressMatches'][0]['geographies']['Census Blocks']\n",
    "    census_tr = json_normalize(geog)\n",
    "    tract_found = census_tr['TRACT']"
   ]
  },
  {
   "cell_type": "code",
   "execution_count": 12,
   "metadata": {},
   "outputs": [
    {
     "name": "stdout",
     "output_type": "stream",
     "text": [
      "<class 'pandas.core.frame.DataFrame'>\n",
      "RangeIndex: 1633 entries, 0 to 1632\n",
      "Data columns (total 18 columns):\n",
      "License Type                     1633 non-null object\n",
      "License Expiration Date          1633 non-null object\n",
      "License Status                   1633 non-null object\n",
      "License Creation Date            1633 non-null object\n",
      "Industry                         1633 non-null object\n",
      "Business Name                    1633 non-null object\n",
      "Address Building                 1633 non-null object\n",
      "Address Street Name              1633 non-null object\n",
      "Secondary Address Street Name    16 non-null object\n",
      "Address City                     1633 non-null object\n",
      "Address ZIP                      1633 non-null int64\n",
      "Address Borough                  1633 non-null object\n",
      "Community Board                  1609 non-null float64\n",
      "Council District                 1609 non-null float64\n",
      "Census Tract                     1586 non-null float64\n",
      "Longitude                        1626 non-null float64\n",
      "Latitude                         1626 non-null float64\n",
      "Location                         1626 non-null object\n",
      "dtypes: float64(5), int64(1), object(12)\n",
      "memory usage: 229.7+ KB\n",
      "None\n"
     ]
    }
   ],
   "source": [
    "print(manhattan_restaurants.info())\n",
    "# manhattan_restaurants.tail(5)"
   ]
  },
  {
   "cell_type": "code",
   "execution_count": null,
   "metadata": {},
   "outputs": [],
   "source": []
  }
 ],
 "metadata": {
  "kernelspec": {
   "display_name": "Python 3",
   "language": "python",
   "name": "python3"
  },
  "language_info": {
   "codemirror_mode": {
    "name": "ipython",
    "version": 3
   },
   "file_extension": ".py",
   "mimetype": "text/x-python",
   "name": "python",
   "nbconvert_exporter": "python",
   "pygments_lexer": "ipython3",
   "version": "3.7.0"
  }
 },
 "nbformat": 4,
 "nbformat_minor": 2
}
